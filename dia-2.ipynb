{
 "cells": [
  {
   "cell_type": "markdown",
   "metadata": {},
   "source": [
    "# Día 2"
   ]
  },
  {
   "cell_type": "markdown",
   "metadata": {},
   "source": [
    "# Fundamentos"
   ]
  },
  {
   "cell_type": "markdown",
   "metadata": {},
   "source": [
    "## Condicionales"
   ]
  },
  {
   "cell_type": "markdown",
   "metadata": {},
   "source": [
    "### Definición - 15m\n",
    "\n",
    "Ya conocemos el flujo de python, línea por línea.\n",
    "Las condicionales nos permiten validar una condicion en especifico para asi permitir o denegar que python ejecute una instruccion o pase a la siguente. \n",
    "\n",
    "Es como un guardia en una puerta controlando si las personas pueden o no ingresar a un lugar\n"
   ]
  },
  {
   "cell_type": "code",
   "execution_count": 4,
   "metadata": {},
   "outputs": [
    {
     "name": "stdout",
     "output_type": "stream",
     "text": [
      "es mayor, puede ingresar\n"
     ]
    }
   ],
   "source": [
    "edad = 18\n",
    "\n",
    "if edad < 18:\n",
    "    print(\"Es menor, no puede ingresar\")\n",
    "else:\n",
    "    print(\"Es mayor, puede ingresar\")"
   ]
  },
  {
   "cell_type": "markdown",
   "metadata": {},
   "source": [
    "### Con varias condiciones - 15m\n",
    "\n",
    "Y si tenemos varias situaciones distintas, con diferentes condiciones?"
   ]
  },
  {
   "cell_type": "code",
   "execution_count": null,
   "metadata": {},
   "outputs": [],
   "source": [
    "# activo laboralmente\n",
    "\n",
    "edad_laboral = 17\n",
    "\n",
    "if edad_laboral <= 18 : \n",
    "    print('Menor de edad')\n",
    "elif edad_laboral > 65:\n",
    "    print('Jubilado')\n",
    "else:\n",
    "    print('Activo laboralmente')"
   ]
  },
  {
   "cell_type": "markdown",
   "metadata": {},
   "source": [
    "## Challenge🤺 - 20m\n",
    "\n",
    "Escribe un programa que pregunte al usuario por su edad y determine si tiene edad suficiente para comprar y consumir alcohol.\n",
    "- Si el usuario tiene mas de 18 pero menos de 21 impirmir \"Podes tomar pero no comprar\"\n",
    "- Si el usuario tiene menos de 18 imprimir \"Juguito nomas\"\n",
    "- Si el usuario tiene mas de 21 imprimir \"Hace lo que quieras\""
   ]
  },
  {
   "cell_type": "markdown",
   "metadata": {},
   "source": [
    "## Socializacion - 10m"
   ]
  },
  {
   "cell_type": "markdown",
   "metadata": {},
   "source": [
    "### Dos condiciones a la vez"
   ]
  },
  {
   "cell_type": "code",
   "execution_count": null,
   "metadata": {},
   "outputs": [],
   "source": [
    "edad_laboral = 70\n",
    "trabaja = False\n",
    "\n",
    "if edad_laboral < 18: \n",
    "    print('Estudiante menor de edad')\n",
    "elif edad_laboral < 65 and trabaja == True:\n",
    "    print('Activo laboralmente')\n",
    "elif edad_laboral < 65 and trabaja == False:\n",
    "    print('Estudiante')\n",
    "else:\n",
    "    print('Jubilado')"
   ]
  },
  {
   "cell_type": "markdown",
   "metadata": {},
   "source": [
    "### Condicionales dentro de una funcion"
   ]
  },
  {
   "cell_type": "code",
   "execution_count": null,
   "metadata": {},
   "outputs": [],
   "source": [
    "def chequear_edad(edad_laboral, trabaja):\n",
    "    if edad_laboral < 18: \n",
    "        print('Estudiante menor de edad')\n",
    "    elif edad_laboral < 65 and trabaja == True:\n",
    "        print('Activo laboralmente')\n",
    "    elif edad_laboral < 65 and trabaja == False:\n",
    "        print('Estudiante')\n",
    "    else:\n",
    "        print('Jubilado')\n",
    "\n",
    "chequear_edad(70, True)"
   ]
  },
  {
   "cell_type": "markdown",
   "metadata": {},
   "source": [
    "### Challenge 🤺 - 30m\n",
    "\n",
    "Escribir un programa en el que se pregunte al usuario por una temperatura (en grados Celsius), imprima la temperatura escrita, y luego clasificar la temperatura ingresada en los siguientes niveles:\n",
    "\n",
    "Entre -10 y 18 grados, que imprima \"Fresquete\".\n",
    "Entre 19 y 30 grados, que imprima \"Calor'i\".\n",
    "Entre 31 y 45 grados, que imprima \"Hakuuuuuu\".\n",
    "Para todo lo demás, imprimir \"Ñamano mba'e!\"."
   ]
  },
  {
   "cell_type": "markdown",
   "metadata": {},
   "source": [
    "### Socialización - 10m"
   ]
  },
  {
   "cell_type": "code",
   "execution_count": null,
   "metadata": {},
   "outputs": [],
   "source": [
    "tiempo_hoy = int(input(\"Escriba el numero en ºC\")) #primero se le consulta al usuario el numero\n",
    "\n",
    "def temperatura_hoy(temperatura_user): #luego se crea la función que va a clasificar la temperatura dada por el user\n",
    "\n",
    "    if temperatura_user >=-10 and temperatura_user <=18:  #si la temperatura del user es mayor a/igual a -10 y menor/igual a 18, imprimir Fresquete \n",
    "        print(f\"Fresquete\")                 #el print debe estar en una jerarquia menor a la condicional\n",
    "    elif temperatura_user >=19 and temperatura_user <=30:\n",
    "        print(f\"Calor'i\")                    #con f se llama a la variable tiempo_hoy para que imprima tambien el valor colocado por el user\n",
    "    elif temperatura_user >=31 and temperatura_user <=45:\n",
    "        print(f\"Hakuuuuuu\")\n",
    "    else:\n",
    "        print(f\"ñamano mba'e\")\n",
    "\n",
    "temperatura_hoy(tiempo_hoy)"
   ]
  },
  {
   "cell_type": "markdown",
   "metadata": {},
   "source": [
    "## Bucles condicionales - 50m"
   ]
  },
  {
   "cell_type": "markdown",
   "metadata": {},
   "source": [
    "### Definición - 15m\n",
    "\n",
    "While nos permite ejecutar una serie de instrucciones mientras una condicion se cumpla. Al momento que la condicion deje de ser cierta el bucle va parar.\n"
   ]
  },
  {
   "cell_type": "code",
   "execution_count": 3,
   "metadata": {},
   "outputs": [
    {
     "name": "stdout",
     "output_type": "stream",
     "text": [
      "3\n",
      "4\n",
      "5\n",
      "30\n",
      "Adivinaste el numero!!\n"
     ]
    }
   ],
   "source": [
    "numero_a_adivinar = 30\n",
    "numero = 0\n",
    "while numero != numero_a_adivinar:\n",
    "    numero = int(input('Introduce un número: '))\n",
    "    print(numero)\n",
    "\n",
    "print(\"numero correcto!!\")"
   ]
  },
  {
   "cell_type": "markdown",
   "metadata": {},
   "source": [
    "### Bucles infinitos y su utilidad - 10m\n",
    "\n",
    "Un bucle infinito sucede cuando la condicion siempre es cierta y por lo tanto el bucle no termina de ejecutarse. \"Break\" es una palabra reservada que nos permite salir de un bucle."
   ]
  },
  {
   "cell_type": "code",
   "execution_count": 1,
   "metadata": {},
   "outputs": [
    {
     "name": "stdout",
     "output_type": "stream",
     "text": [
      "El numero es incorrecto.\n",
      "El numero es correcto.\n"
     ]
    }
   ],
   "source": [
    "# explicar palabras reservadas\n",
    "numero = 1\n",
    "\n",
    "while True:\n",
    "    numero_ingresado = int(input(\"Introduce un numero\"))\n",
    "    if numero_ingresado == numero:\n",
    "        print(\"El numero es correcto.\")\n",
    "        break\n",
    "    else:\n",
    "        print(\"El numero es incorrecto.\")"
   ]
  },
  {
   "cell_type": "markdown",
   "metadata": {},
   "source": [
    "### Challenge 🤺 - 20m\n",
    "Escribir un programa que almacene una contraseña en una variable, y pregunte al usuario por la contraseña hasta que introduzca la contraseña correcta.\n",
    "\n",
    "Cuando el usuario ingrese la contrasena correcta, imprimir un mensaje secreto."
   ]
  },
  {
   "cell_type": "markdown",
   "metadata": {},
   "source": [
    "### Socialización - 10m"
   ]
  },
  {
   "cell_type": "markdown",
   "metadata": {},
   "source": [
    "## Listas"
   ]
  },
  {
   "cell_type": "markdown",
   "metadata": {},
   "source": [
    "### Definición - 25m\n",
    "\n",
    "Una lista es una agrupación de objetos, que pueden ser de distintos tipos de datos. Las construimos colocando los elementos entre corchetes [ ] y separados por comas."
   ]
  },
  {
   "cell_type": "code",
   "execution_count": 8,
   "metadata": {},
   "outputs": [
    {
     "name": "stdout",
     "output_type": "stream",
     "text": [
      "naranjas\n",
      "piñas\n",
      "5\n",
      "['naranjas', 'peras', 'piñas', 'kiwis', 'sandias', 'ciruelas']\n",
      "['naranjas', 'manzana', 'piñas', 'sandias', 'ciruelas']\n",
      "['naranjas', 'manzana', 'piñas', 'ciruelas']\n"
     ]
    }
   ],
   "source": [
    "lista_frutas = [\"naranjas\", \"peras\", \"piñas\", \"kiwis\", \"sandias\"]\n",
    "\n",
    "# Diferentes tipos de datos en lista\n",
    "lista_bool = [True, False, True, False]\n",
    "lista_numeros = [1.99, 2, 3, 4.5, 5]\n",
    "lista_variada = [\"peras\", 10, False]\n",
    "\n",
    "# Acceso a elementos de una lista\n",
    "# Un índice es un número entero que indica la posición de un elemento en una lista\n",
    "# El primer elemento de una lista siempre comienza en el índice 0\n",
    "# Por ejemplo, en una lista con 4 elementos, los índices de cada uno de los ítems serían 0, 1, 2 y 3\n",
    "print(lista_frutas[0])\n",
    "print(lista_frutas[2])\n",
    "\n",
    "# Añadir elemento al final de la lista\n",
    "lista_frutas.append(\"ciruelas\")\n",
    "print(lista_frutas)\n",
    "\n",
    "# Modificar elementos \n",
    "lista_frutas[1] = \"manzana\"\n",
    "\n",
    "# Eliminar elemento específico por valor\n",
    "lista_frutas.remove(\"kiwis\")\n",
    "print(lista_frutas)\n",
    "\n",
    "# Eliminar elemento específico por posición\n",
    "lista_frutas.pop(3)\n",
    "print(lista_frutas)\n",
    "\n",
    "# Contar elementos de una lista\n",
    "print(len(lista_frutas))"
   ]
  },
  {
   "cell_type": "markdown",
   "metadata": {},
   "source": [
    "### Dinámica de listas - 10m\n",
    "\n",
    "Con las sillas"
   ]
  },
  {
   "cell_type": "markdown",
   "metadata": {},
   "source": [
    "### Challenge 🤺 - 20m\n",
    "\n",
    "Crear una lista de 5 elementos. Luego, seguir los siguientes pasos.\n",
    "\n",
    "- Agregar un elemento al final de la lista.\n",
    "\n",
    "- Modificar el segundo elemento.\n",
    "\n",
    "- Eliminar el tercer elemento."
   ]
  },
  {
   "cell_type": "markdown",
   "metadata": {},
   "source": [
    "### Socialización - 10m"
   ]
  },
  {
   "cell_type": "markdown",
   "metadata": {},
   "source": [
    "## Bucles iterativos (for) 1h 20m"
   ]
  },
  {
   "cell_type": "markdown",
   "metadata": {},
   "source": [
    "### Definición - 20m\n",
    "\n",
    "Cuando queremos repetir una acción una cierta cantidad de veces, podemos utilizar un bucle iterativo.\n",
    "\n",
    "Iteraciones: una acción repetida una cierta cantidad de veces, pero en cada repetición se tiene en cuenta el valor anterior.\n",
    "\n",
    "Para eso podríamos usar un generador de iterables llamado \"range\", de la siguiente forma:\n",
    "\n"
   ]
  },
  {
   "cell_type": "code",
   "execution_count": 4,
   "metadata": {},
   "outputs": [
    {
     "name": "stdout",
     "output_type": "stream",
     "text": [
      "Hola. Buen dia\n",
      "Hola. Buen dia\n",
      "Hola. Buen dia\n",
      "Hola. Buen dia\n",
      "Hola. Buen dia\n",
      "0\n",
      "1\n",
      "2\n",
      "3\n",
      "4\n"
     ]
    }
   ],
   "source": [
    "# imprimir \"Hola. Buen dia\" 5 veces\n",
    "\n",
    "for i in range(5):\n",
    "    print(\"Hola. Buen dia\")\n",
    "\n",
    "# También podrimos imprimir los numeros del rango que ddefinimos\n",
    "for iterador in range(5):\n",
    "    print(iterador)"
   ]
  },
  {
   "cell_type": "markdown",
   "metadata": {},
   "source": [
    "### Challenge 🤺 - 20m\n",
    "\n",
    "Escribir un programa que itere en un rango de 10 veces. Por cada iteracion multiplicar el iterador por dos e imprimir el resultado."
   ]
  },
  {
   "cell_type": "code",
   "execution_count": 5,
   "metadata": {},
   "outputs": [
    {
     "name": "stdout",
     "output_type": "stream",
     "text": [
      "0\n",
      "2\n",
      "4\n",
      "6\n",
      "8\n",
      "10\n",
      "12\n",
      "14\n",
      "16\n",
      "18\n"
     ]
    }
   ],
   "source": [
    "for numero in range(10):\n",
    "    multiplicacion = numero * 2\n",
    "    print(multiplicacion)"
   ]
  },
  {
   "cell_type": "markdown",
   "metadata": {},
   "source": [
    "También podríamos querer realizar una acción utilizando cada valor de una lista.\n",
    "\n",
    "Gracias a que las listas también son datos iterables.\n",
    "\n",
    "Por ejemplo, si queremos mostrar todas las marcas que tenemos en nuestra tienda, podemos hacer esto:"
   ]
  },
  {
   "cell_type": "code",
   "execution_count": 6,
   "metadata": {},
   "outputs": [
    {
     "name": "stdout",
     "output_type": "stream",
     "text": [
      "chanel\n",
      "nike\n",
      "dior\n",
      "adidas\n"
     ]
    }
   ],
   "source": [
    "lista_marcas = [\"chanel\", \"nike\", \"dior\", \"adidas\"]\n",
    "\n",
    "for marca in lista_marcas: # por cada marca en la lista de marcas\n",
    "    print(marca) # imprime cada marca"
   ]
  },
  {
   "cell_type": "markdown",
   "metadata": {},
   "source": [
    "### Challenge 🤺 - 20m\n",
    "\n",
    "Recorrer los elementos de una lista de marcas e imprimir cada marca *__solamente__* si tiene 6 letras o más.\n",
    "\n"
   ]
  },
  {
   "cell_type": "markdown",
   "metadata": {},
   "source": [
    "### Socialización - 10m"
   ]
  },
  {
   "cell_type": "markdown",
   "metadata": {},
   "source": [
    "### Recorrer strings - 10m\n",
    "\n",
    "Los strings también son datos iterables.\n",
    "Ejemplo:"
   ]
  },
  {
   "cell_type": "code",
   "execution_count": 7,
   "metadata": {},
   "outputs": [
    {
     "name": "stdout",
     "output_type": "stream",
     "text": [
      "G\n",
      "a\n",
      "t\n",
      "o\n"
     ]
    }
   ],
   "source": [
    "for letra in \"Gato\":\n",
    "    print(letra)"
   ]
  },
  {
   "cell_type": "markdown",
   "metadata": {},
   "source": [
    "### Challenge 🤺 - 15m\n",
    "\n",
    "Solicitar al usuario que ingrese una frase.\n",
    "\n",
    "Imprimir un mensaje cada vez que se encuentre una letra \"o\"."
   ]
  },
  {
   "cell_type": "markdown",
   "metadata": {},
   "source": [
    "### Socialización - 10m"
   ]
  },
  {
   "cell_type": "markdown",
   "metadata": {},
   "source": [
    "## Challenge 3 🤺 - 20m\n",
    "\n",
    "Crear una función que cargue los precios de los productos de un carrito de super y retornar el monto final de la compra. Aplicarle un descuento del 30% al monto final de la compra."
   ]
  },
  {
   "cell_type": "markdown",
   "metadata": {},
   "source": [
    "# Repaso y proyecto (Wordle) 40m"
   ]
  },
  {
   "cell_type": "markdown",
   "metadata": {},
   "source": [
    "### Presentación del proyecto - 15m\n",
    "Vamos al sitio web de wordle\n",
    "\n",
    "Requerimientos\n",
    "\n",
    "Necesitamos lo siguiente:\n",
    "\n",
    "    - Variables\n",
    "    - Tipos de datos\n",
    "    - Concatenación\n",
    "    - Operadores lógicos\n",
    "    - Condicionales (control de flujo)\n",
    "    - Funciones (propias & built-in)\n",
    "    - Bucles"
   ]
  },
  {
   "cell_type": "markdown",
   "metadata": {},
   "source": [
    "### Variables - 5m"
   ]
  },
  {
   "cell_type": "code",
   "execution_count": null,
   "metadata": {},
   "outputs": [],
   "source": [
    "palabra = \"calor\" # strings (str)\n",
    "letra1 = \"a\" # strings (str)\n",
    "letra2 = \"r\" # strings (str)"
   ]
  },
  {
   "cell_type": "markdown",
   "metadata": {},
   "source": [
    "### Tipos de datos - 5m"
   ]
  },
  {
   "cell_type": "code",
   "execution_count": 6,
   "metadata": {},
   "outputs": [],
   "source": [
    "sol_es_naranja = False # boolean (bool)\n",
    "sol_es_blanco = True # boolean (bool)\n",
    "cantidad_de_participantes = 50 # integer (int)\n",
    "numeros = [1,2,3,4,5] # list (list)"
   ]
  },
  {
   "cell_type": "markdown",
   "metadata": {},
   "source": [
    "### Concatenación - 5m"
   ]
  },
  {
   "cell_type": "code",
   "execution_count": 7,
   "metadata": {},
   "outputs": [
    {
     "name": "stdout",
     "output_type": "stream",
     "text": [
      "La cantidad de nuevos pinguinos hoy es 50\n"
     ]
    }
   ],
   "source": [
    "# Genera: \"La palabra ingresada es calor\"\n",
    "#mensaje1 = \"La palabra ingresada es \" + palabra\n",
    "\n",
    "# Genera: \"La cantidad de nuevos pinguinos hoy es 50\"\n",
    "# mensaje2 = f\"La cantidad de nuevos pinguinos hoy es {cantidad_de_participantes}\"\n",
    "# print(mensaje2) \n",
    "\n",
    "# Genera: \"La cantidad de nuevos pinguinos hoy es 50\"\n",
    "# mensaje3 = \"La cantidad de nuevos pinguinos hoy es\", cantidad_de_participantes"
   ]
  },
  {
   "cell_type": "markdown",
   "metadata": {},
   "source": [
    "### Operadores lógicos - 5m"
   ]
  },
  {
   "cell_type": "code",
   "execution_count": null,
   "metadata": {},
   "outputs": [],
   "source": [
    "# ==, !=, >, <, >=, <=, and, or, not\n",
    "letras_son_iguales = letra1 == letra2 # Devuelve: True o False\n",
    "print(letras_son_iguales)\n",
    "\n",
    "# in\n",
    "letra_existe_en_la_palabra = letra1 in palabra # Devuelve: True o False\n",
    "print(letra_existe_en_la_palabra)"
   ]
  },
  {
   "cell_type": "markdown",
   "metadata": {},
   "source": [
    "### Condicionales (control de flujo) - 5m"
   ]
  },
  {
   "cell_type": "code",
   "execution_count": null,
   "metadata": {},
   "outputs": [],
   "source": [
    "# if True:\n",
    "#     print(\"Verdadero\")\n",
    "\n",
    "if letra_existe_en_la_palabra:\n",
    "    print(\"La letra existe en la palabra.\")\n",
    "else:\n",
    "    print(\"Las palabras no coinciden. Cambiar la palabra ingresada.\")"
   ]
  },
  {
   "cell_type": "markdown",
   "metadata": {},
   "source": [
    "## Challenge 3 🤺 - 15m\n",
    "\n",
    "Crear una función y calcular el precio de los productos de un carrito de super, retornar el valor final de la compra. Luego descontar el 30% del valor final."
   ]
  }
 ],
 "metadata": {
  "kernelspec": {
   "display_name": "Python 3.10.8 64-bit",
   "language": "python",
   "name": "python3"
  },
  "language_info": {
   "codemirror_mode": {
    "name": "ipython",
    "version": 3
   },
   "file_extension": ".py",
   "mimetype": "text/x-python",
   "name": "python",
   "nbconvert_exporter": "python",
   "pygments_lexer": "ipython3",
   "version": "3.10.8"
  },
  "orig_nbformat": 4,
  "vscode": {
   "interpreter": {
    "hash": "e593ac106456af50ce7af38f9671c411b49d6cd90f9b885e167f0f594e09038c"
   }
  }
 },
 "nbformat": 4,
 "nbformat_minor": 2
}
