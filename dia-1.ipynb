{
 "cells": [
  {
   "cell_type": "markdown",
   "metadata": {},
   "source": [
    "# Día 1"
   ]
  },
  {
   "cell_type": "markdown",
   "metadata": {},
   "source": [
    "# Introducción"
   ]
  },
  {
   "cell_type": "markdown",
   "metadata": {},
   "source": [
    "## Qué es un lenguaje de programación\n",
    "\n",
    "Un lenguaje de programación es una forma de comunicarnos con una computadora e indicarle una serie de instrucciones de lo que queremos hacer."
   ]
  },
  {
   "cell_type": "markdown",
   "metadata": {},
   "source": [
    "## Qué es Python\n",
    "\n",
    "Es un lenguaje de programación de sintaxis sencilla, amigable y trata de parecerse en lo mayor posible al lenguaje humano.\n",
    "Como está escrito en inglés, es más parecido a ese idioma."
   ]
  },
  {
   "cell_type": "markdown",
   "metadata": {},
   "source": [
    "## Primer encuentro con Python: Hello World! - 20m"
   ]
  },
  {
   "cell_type": "code",
   "execution_count": 1,
   "metadata": {},
   "outputs": [
    {
     "name": "stdout",
     "output_type": "stream",
     "text": [
      "Hola mundo!\n"
     ]
    }
   ],
   "source": [
    "print(\"Hola mundo!\")"
   ]
  },
  {
   "cell_type": "markdown",
   "metadata": {},
   "source": [
    "__Explicar que el print no es para ejecutar algo y no es necesario en todos los casos__"
   ]
  },
  {
   "cell_type": "markdown",
   "metadata": {},
   "source": [
    "# Variables - 2h 50m"
   ]
  },
  {
   "cell_type": "markdown",
   "metadata": {},
   "source": [
    "## Definición de variables - 15m\n",
    "\n",
    "Las variables son espacios en memoria de la computadora en los cuales podemos guardar datos durante la ejecución de nuestro programa.\n",
    "\n",
    "__Explicar la ejecución__\n",
    "\n",
    "A estos espacios les podemos poner nombres por medio de los cuales podemos acceder más tarde a los valores que contienen.\n",
    "\n",
    "__Pasar al ejemplo__\n"
   ]
  },
  {
   "cell_type": "markdown",
   "metadata": {},
   "source": [
    "\n",
    "## Orden de ejecución - 10m\n",
    "\n",
    "Python se ejecuta línea por línea.\n",
    "Todos los comandos se ejecutan en el orden en que se escriben.\n"
   ]
  },
  {
   "cell_type": "code",
   "execution_count": 13,
   "metadata": {},
   "outputs": [
    {
     "name": "stdout",
     "output_type": "stream",
     "text": [
      "naranjas\n",
      "4\n",
      "banana\n"
     ]
    }
   ],
   "source": [
    "fruta = \"naranjas\"\n",
    "print(fruta)\n",
    "cantidad_de_frutas = 4\n",
    "print(cantidad_de_frutas)\n",
    "fruta = \"banana\"\n",
    "print(fruta)"
   ]
  },
  {
   "cell_type": "markdown",
   "metadata": {},
   "source": [
    "## Tipos de datos - 15m\n",
    "\n",
    "Así como los textos, también podemos almacenar otros tipos de datos.\n",
    "Textos, números, decimales, booleanos/lógicos.\n"
   ]
  },
  {
   "cell_type": "code",
   "execution_count": 3,
   "metadata": {},
   "outputs": [
    {
     "name": "stdout",
     "output_type": "stream",
     "text": [
      "7\n",
      "3.99\n",
      "gaseosa\n",
      "True\n"
     ]
    }
   ],
   "source": [
    "cantidad_de_productos = 30 # Número entero -> integer -> int\n",
    "precio_usd = 3.99 # Número decimal -> floating numbers -> float\n",
    "producto = \"gaseosa\" # Texto -> strings -> str\n",
    "esta_abierta = True # Boolean -> bool\n",
    "print(cantidad_de_productos)\n",
    "print(precio_usd)\n",
    "print(producto)\n",
    "print(esta_abierta)\n",
    "\n",
    "# Hablar sobre snake_case y naming de variables (es_x, esta_x, etc)\n",
    "# Mencionar que se va a crear un nuevo bloque (en el siguiente)"
   ]
  },
  {
   "cell_type": "markdown",
   "metadata": {},
   "source": [
    "## Operaciones aritméticas / con variables - 15m\n",
    "\n",
    "También podemos realizar operaciones matemáticas, como en las calculadoras."
   ]
  },
  {
   "cell_type": "code",
   "execution_count": 6,
   "metadata": {},
   "outputs": [
    {
     "name": "stdout",
     "output_type": "stream",
     "text": [
      "32000\n",
      "27000\n",
      "30000\n",
      "15000.0\n",
      "9.0\n"
     ]
    }
   ],
   "source": [
    "\n",
    "# Suma\n",
    "precio_total = 7000 + 10000 + 15000 # En gs (guaranies) -> suma\n",
    "print(precio_total) # imprimimos/mostramos el resultado en la pantalla\n",
    "\n",
    "# Resta\n",
    "total_con_descuento = precio_total - 5000  # un descuento -> resta\n",
    "print(total_con_descuento) # imprimimos/mostramos el resultado en la pantalla\n",
    "\n",
    "# Multiplicación\n",
    "precio_gaseosa = 10000\n",
    "cantidad_de_gaseosas = 3\n",
    "total_de_compra = precio_gaseosa * cantidad_de_gaseosas # En gs (guaraníes) -> multiplicación \n",
    "print(total_de_compra) # imprimimos/mostramos el resultado en la pantalla\n",
    "\n",
    "# División\n",
    "cantidad_de_personas = 2\n",
    "vaquita = total_de_compra / cantidad_de_personas # En dolares -> división\n",
    "print(vaquita) # imprimimos/mostramos el resultado en la pantalla\n",
    "\n",
    "# Obs.: Python obedece a la regla matemática de la precedencia de operadores\n",
    "print(2 * 2 + 12 / 2 - 1)"
   ]
  },
  {
   "cell_type": "markdown",
   "metadata": {},
   "source": [
    "## Qué es un challenge\n",
    "Un \"challenge\"  es una tarea o problema que se plantea para poner a prueba las habilidades y el conocimiento de alguien. En el contexto de la programación , los challenges son actividades o ejercicios diseñados para desafiar a los participantes y motivarlos a aplicar sus nuevos conocimientos y habilidades adquiridas.\n",
    "### diagrama de flujo + pensamiento computacional"
   ]
  },
  {
   "cell_type": "markdown",
   "metadata": {},
   "source": [
    "## Challenge 🤺 - 20m\n",
    "\n",
    "Suma: asignar dos números en dos variables diferentes `cantidad_de_manzanas` y `cantidad_de_naranjas`. Luego sumar ambas variables en `cantidad_de_frutas`. Imprimir la última variable.\n",
    "\n",
    "Resta: asignar un valor numérico a la variable `frutas_vendidas`. Luego, asignar la resta entre `cantidad_de_frutas` y `frutas_vendidas` a la variable `frutas_restantes`. Imprimir la última variable."
   ]
  },
  {
   "cell_type": "code",
   "execution_count": 9,
   "metadata": {},
   "outputs": [
    {
     "name": "stdout",
     "output_type": "stream",
     "text": [
      "18\n",
      "13\n"
     ]
    }
   ],
   "source": [
    "# Suma (ejercicio)\n",
    "\n",
    "cantidad_de_manzanas = 8\n",
    "cantidad_de_naranjas = 10\n",
    "cantidad_de_frutas = cantidad_de_manzanas + cantidad_de_naranjas\n",
    "\n",
    "print(cantidad_de_frutas)\n",
    "\n",
    "# Resta (ejercicio)\n",
    "\n",
    "frutas_vendidas = 5\n",
    "frutas_restantes = cantidad_de_frutas - frutas_vendidas\n",
    "\n",
    "print(frutas_restantes)"
   ]
  },
  {
   "cell_type": "markdown",
   "metadata": {},
   "source": [
    "## Socialización - 10m"
   ]
  },
  {
   "cell_type": "markdown",
   "metadata": {},
   "source": [
    "## Jugando con texto - 15m\n",
    "\n",
    "Las comillas simples y dobles representan lo mismo.\n",
    "Lo importante es que tenemos que cerrar con el mismo tipo de comillas que abrimos."
   ]
  },
  {
   "cell_type": "code",
   "execution_count": 2,
   "metadata": {},
   "outputs": [
    {
     "name": "stdout",
     "output_type": "stream",
     "text": [
      "Claudia\n",
      "Melgarejo\n",
      "ClaudiaMelgarejo\n",
      "Claudia Melgarejo\n",
      "hola, mi nombre es Claudia Melgarejo\n",
      "hola, mi nombre es Claudia Melgarejo\n"
     ]
    }
   ],
   "source": [
    "nombre = 'Claudia'\n",
    "apellido = \"Melgarejo\"\n",
    "\n",
    "print(nombre)\n",
    "print(apellido)\n",
    "\n",
    "# Preguntar si podemos sumar textos (concatenación)\n",
    "\n",
    "print(nombre + apellido)\n",
    "\n",
    "# Textos + Variables(str)\n",
    "print(nombre + \" \" + apellido)\n",
    "print(\"hola, mi nombre es \" + nombre + \" \" + apellido)\n",
    "# agregar el print con la f \n",
    "print(f\"hola, mi nombre es {nombre} {apellido}\")"
   ]
  },
  {
   "cell_type": "markdown",
   "metadata": {},
   "source": [
    "## Challenge 🤺 - 15m\n",
    "\n",
    "Asignar el nombre y el apellido de tu compañera/o a las variables nombre y apellido. Luego, imprimir una frase, utilizando las variables.\n",
    "EJEMPLO: \"Hola. Me llamo Claudia Melgarejo. Mucho gusto.\""
   ]
  },
  {
   "cell_type": "code",
   "execution_count": 16,
   "metadata": {},
   "outputs": [
    {
     "name": "stdout",
     "output_type": "stream",
     "text": [
      "Hola. Mi nombre es Juan Perez, Mucho gusto.\n"
     ]
    }
   ],
   "source": [
    "nombre = \"Juan\"\n",
    "apellido = \"Perez\"\n",
    "# Podemos sumar textos + variables del mismo tipo\n",
    "print(f\"Hola. Mi nombre es {nombre} {apellido}, Mucho gusto.\")"
   ]
  },
  {
   "cell_type": "markdown",
   "metadata": {},
   "source": [
    "## Socialización - 10m"
   ]
  },
  {
   "cell_type": "markdown",
   "metadata": {},
   "source": [
    "## Obteniendo datos del usuario - 1h"
   ]
  },
  {
   "cell_type": "markdown",
   "metadata": {},
   "source": [
    "### Definición - 15m\n",
    "\n",
    "Hasta ahora nuestros ejemplos fueron de programas que se ejecutan y ya. Pero ¿qué pasa si queremos que el usuario pueda ingresar datos?\n",
    "\n",
    "Aunque __no siempre es necesario__. A veces solo queremos ejecutar una serie de comandos, como en los ejemplos anteriores."
   ]
  },
  {
   "cell_type": "code",
   "execution_count": 9,
   "metadata": {},
   "outputs": [
    {
     "name": "stdout",
     "output_type": "stream",
     "text": [
      "huevi\n",
      "5\n"
     ]
    }
   ],
   "source": [
    "# Solicitar un producto\n",
    "un_producto = input(\"Que producto desea?\")\n",
    "print(un_producto)\n",
    "\n",
    "# Solicitar la cantidad de de unidades que quiere el cliente\n",
    "cantidad_de_unidades = input(\"Cuántas unidades desea? \")\n",
    "print(cantidad_de_unidades)"
   ]
  },
  {
   "cell_type": "markdown",
   "metadata": {},
   "source": [
    "### Ejemplos de operaciones con datos ingresados - 10m"
   ]
  },
  {
   "cell_type": "code",
   "execution_count": 10,
   "metadata": {},
   "outputs": [
    {
     "name": "stdout",
     "output_type": "stream",
     "text": [
      "Quisiera comprar huevi Podria darme 5 unidades?\n"
     ]
    }
   ],
   "source": [
    "print(f'Quisiera comprar {un_producto} Podria darme {cantidad_de_unidades} unidades?')"
   ]
  },
  {
   "cell_type": "markdown",
   "metadata": {},
   "source": [
    "### Identificar el tipo de dato de una variable - 10m"
   ]
  },
  {
   "cell_type": "code",
   "execution_count": 17,
   "metadata": {},
   "outputs": [
    {
     "name": "stdout",
     "output_type": "stream",
     "text": [
      "un_producto:\n",
      "<class 'str'>\n",
      "cantidad_de_unidades:\n",
      "<class 'str'>\n"
     ]
    }
   ],
   "source": [
    "print('un_producto:')\n",
    "print(type(un_producto))\n",
    "print('cantidad_de_unidades:')\n",
    "print(type(cantidad_de_unidades))"
   ]
  },
  {
   "cell_type": "markdown",
   "metadata": {},
   "source": [
    "### Convertir de string (str) a integer (int) - 10m"
   ]
  },
  {
   "cell_type": "code",
   "execution_count": 18,
   "metadata": {},
   "outputs": [
    {
     "name": "stdout",
     "output_type": "stream",
     "text": [
      "4\n",
      "<class 'int'>\n"
     ]
    }
   ],
   "source": [
    "cantidad_de_unidades = input(\"Cuántas unidades desea? (otra vez 😝)\")\n",
    "cantidad_de_unidades = int(cantidad_de_unidades)\n",
    "\n",
    "print(cantidad_de_unidades)\n",
    "print(type(cantidad_de_unidades))"
   ]
  },
  {
   "cell_type": "markdown",
   "metadata": {},
   "source": [
    "### Challenge 🤺 - 15m\n",
    "\n",
    "Solicitar al usuario ingresar dos números y almacenarlos en dos variables. Luego, imprimir la suma de los dos números."
   ]
  },
  {
   "cell_type": "markdown",
   "metadata": {},
   "source": [
    "## Qué es un algoritmo\n",
    "Un algoritmo es una serie de pasos o instrucciones definidos y ordenados para resolver un problema o completar una tarea específica, muy de la mano de lo que es el pensamiento computacional. Los algoritmos se utilizan para describir cómo se deben llevar a cabo procesos de manera precisa y detallada, debe tener un número finito de pasos y terminar en algún momento."
   ]
  },
  {
   "cell_type": "markdown",
   "metadata": {},
   "source": [
    "# Funciones - 2h 30m"
   ]
  },
  {
   "cell_type": "markdown",
   "metadata": {},
   "source": [
    "## Definición y DRY - 20m\n",
    "\n",
    "Las funciones son un conjunto de instrucciones de una operacion que quisieramos volver a repetir en diferentes partes de nuestro programa. \n",
    "\n",
    "Las funciones existen para permitirnos re utilizar codigo que ya escribimos anteriormente, sin la necesidad de volver a escribirlo. \n",
    "\n",
    "\n",
    "Por ejemplo como funciona un lavarropas. El lavarropas siempre cumple los mismos pasos ya pre definidos que se necesitan para lavar correctamente las prendas. Basta con encenderlo para que empiece ejecutar las instrucciones que debe."
   ]
  },
  {
   "cell_type": "code",
   "execution_count": 27,
   "metadata": {},
   "outputs": [
    {
     "name": "stdout",
     "output_type": "stream",
     "text": [
      "Remojar la ropa\n",
      "Girar para empezar a lavar\n",
      "Enjuagar\n",
      "Expulsar el agua\n",
      "Centrifugar la ropa\n",
      "Ropa lista!\n"
     ]
    }
   ],
   "source": [
    "# Función con texto\n",
    "def lavar_ropa(): # Nombramos nuestra función\n",
    "    # Aqui van los procesos (o pasos) de la función\n",
    "    # Se introduce la indentación\n",
    "    print(\"Remojar la ropa\")\n",
    "    print(\"Girar para empezar a lavar\")\n",
    "    print(\"Enjuagar\")\n",
    "    print(\"Expulsar el agua\")\n",
    "    print(\"Centrifugar la ropa\")\n",
    "    print(\"Ropa lista!\")\n",
    "\n",
    "# Encendemos el lavarropas\n",
    "lavar_ropa()"
   ]
  },
  {
   "cell_type": "markdown",
   "metadata": {},
   "source": [
    "## Challenge 🤺 - 20m\n",
    "\n",
    "Crear una función de un proceso que se les ocurra que tenga varios pasos.\n",
    "Ejecutar la función 3 veces."
   ]
  },
  {
   "cell_type": "markdown",
   "metadata": {},
   "source": [
    "## Socialización - 10m"
   ]
  },
  {
   "cell_type": "markdown",
   "metadata": {},
   "source": [
    "## Parámetros y argumentos - 25m\n",
    "\n",
    "A veces queremos ejecutar \"casi\" la misma función varias veces. Por ejemplo, si somos vendedores de autos..."
   ]
  },
  {
   "cell_type": "code",
   "execution_count": 11,
   "metadata": {},
   "outputs": [
    {
     "name": "stdout",
     "output_type": "stream",
     "text": [
      "Pedir un lavarropas de la marca midas\n",
      "pagar\n",
      "Pedir un lavarropas de la marca tokyo\n",
      "pagar\n"
     ]
    }
   ],
   "source": [
    "def comprar_lavarropas(marca): # Parámetro\n",
    "\n",
    "    print(f\"Pedir un lavarropas de la marca {marca}\" )\n",
    "    print(\"pagar\")\n",
    "\n",
    "comprar_lavarropas(\"midas\")# Llamada con argumento\n",
    "comprar_lavarropas(\"tokyo\")# Llamada con argumento\n",
    "# ----------------------------------------------------------\n",
    "\n",
    "## Podemos pasar varios parametros\n",
    "# obs agregar parametro --instrucciones\n",
    "# def marca_lavarropas(marca, kg, metodo_de_pago):\n",
    "#    print(\"Voy a utilizar un lavarropas de la marca \" + marca + \" de \" + kg + \"Kg\" )\n",
    "#    print(\"voy a pagar con \" + metodo_de_pago)\n",
    "\n",
    "# marca_lavarropas(\"midas\", 6, \"efectivo\")# Llamada con argumento\n",
    "# marca_lavarropas(\"tokyo\", 16, \"tarjeta\")# Llamada con argumento"
   ]
  },
  {
   "cell_type": "markdown",
   "metadata": {},
   "source": [
    "## Challenge 🤺 - 25m\n",
    "\n",
    "Escribir una funcion que nos pregunte las caracteriticas de un elemento a comprar e imprima el elemento con sus caracteristicas."
   ]
  },
  {
   "cell_type": "markdown",
   "metadata": {},
   "source": [
    "## Socialización - 10m"
   ]
  },
  {
   "cell_type": "markdown",
   "metadata": {},
   "source": [
    "## Función personalizada vs función built-in - 10m\n",
    "\n",
    "Explicar que python también trae funciones pre-definidas"
   ]
  },
  {
   "cell_type": "code",
   "execution_count": 34,
   "metadata": {},
   "outputs": [
    {
     "name": "stdout",
     "output_type": "stream",
     "text": [
      "Voy a utilizar un lavarropas de la marca midas\n",
      "Este texto se muestra en la pantalla\n"
     ]
    }
   ],
   "source": [
    "# Funciones que creamos nosotros\n",
    "comprar_lavarropas(\"midas\")\n",
    "# Funciones predefinidas de python\n",
    "print(\"Este texto se muestra en la pantalla\")"
   ]
  },
  {
   "cell_type": "markdown",
   "metadata": {},
   "source": [
    "## Alcance (Scope) - 20m\n",
    "\n",
    "Qué pasa si con una función, queremos modificar una variable que declaramos más arriba?"
   ]
  },
  {
   "cell_type": "code",
   "execution_count": 1,
   "metadata": {},
   "outputs": [
    {
     "name": "stdout",
     "output_type": "stream",
     "text": [
      "mi lavarropas es de 14 kg\n",
      "mi lavarropas es de 14 kg\n"
     ]
    }
   ],
   "source": [
    "# Kg de un lavarropas\n",
    "\n",
    "def kg_lavarropas():\n",
    "    global kg\n",
    "    kg = 14 \n",
    "    print(f\"mi lavarropas es de {kg} kg\")\n",
    "\n",
    "    # global kg\n",
    "\n",
    "\n",
    "kg_lavarropas()\n",
    "\n",
    "\n",
    "print(f\"mi lavarropas es de {kg} kg\")"
   ]
  }
 ],
 "metadata": {
  "kernelspec": {
   "display_name": "Python 3.10.8 64-bit",
   "language": "python",
   "name": "python3"
  },
  "language_info": {
   "codemirror_mode": {
    "name": "ipython",
    "version": 3
   },
   "file_extension": ".py",
   "mimetype": "text/x-python",
   "name": "python",
   "nbconvert_exporter": "python",
   "pygments_lexer": "ipython3",
   "version": "3.10.8"
  },
  "orig_nbformat": 4,
  "vscode": {
   "interpreter": {
    "hash": "e593ac106456af50ce7af38f9671c411b49d6cd90f9b885e167f0f594e09038c"
   }
  }
 },
 "nbformat": 4,
 "nbformat_minor": 2
}
