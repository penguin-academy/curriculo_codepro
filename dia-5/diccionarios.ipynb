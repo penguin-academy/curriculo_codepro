{
 "cells": [
  {
   "cell_type": "markdown",
   "metadata": {},
   "source": [
    "## Diccionarios\n",
    "Un diccionario es una colección de pares formados por una clave y un valor asociado a la clave. Se construyen poniendo los pares entre llaves `{ }` separados por comas, y separando la clave del valor con dos puntos :.\n",
    "\n",
    "Se caracterizan por:\n",
    "\n",
    "- No tienen orden.\n",
    "- Pueden contener elementos de distintos tipos.\n",
    "- Son mutables, es decir, pueden alterarse durante la ejecución de un programa.\n",
    "- Las claves son únicas, es decir, no pueden repetirse en un mismo diccionario, y pueden ser de cualquier tipo de datos."
   ]
  },
  {
   "cell_type": "code",
   "execution_count": null,
   "metadata": {},
   "outputs": [],
   "source": [
    "# Ejemplo de diccionario\n",
    "mi_contacto = {\"nombre\": \"Analia\", \"apellido\": \"Britez\", \"email\": 'analia@penguin.academy', \"telefono\": '0985830794', \"direccion\": \"Calle Mengano 1\"}\n",
    "\n",
    "# Ejemplo de diccionario estilizado para una mejor comprensión de claves y valores\n",
    "{\n",
    "    \"nombre\": \"Analia\",\n",
    "    \"apellido\": \"Britez\",\n",
    "    \"email\": 'analia@penguin.academy',\n",
    "    \"teléfono\": '0985830794',\n",
    "    \"direccion\": 'Calle mengano 1'\n",
    "}\n",
    "\n",
    "# Imprimir el diccionario\n",
    "print(mi_contacto)\n",
    "\n",
    "# Acceder a datos del diccionario\n",
    "mi_contacto[\"nombre\"]\n",
    "mi_contacto[\"direccion\"]\n",
    "\n",
    "# Desplegar datos del diccionario\n",
    "mi_contacto.keys()\n",
    "mi_contacto.values()\n",
    "mi_contacto.items()\n",
    "\n",
    "# Añadir datos al diccionario\n",
    "mi_contacto[\"barrio\"] = \"Los Laureles\"\n",
    "print(mi_contacto)\n",
    "\n",
    "# Actualizar datos del diccionario\n",
    "mi_contacto[\"barrio\"] = \"Recoleta\"\n",
    "print(mi_contacto)\n",
    "\n",
    "# Eliminar datos del diccionario: ultimo par\n",
    "mi_contacto.popitem()\n",
    "print(mi_contacto)\n",
    "\n",
    "# Eliminar datos del diccionario: por clave\n",
    "del mi_contacto[\"apellido\"]\n",
    "print(mi_contacto)"
   ]
  },
  {
   "cell_type": "markdown",
   "metadata": {},
   "source": [
    "## Challenge 1 🤺\n",
    "Escribir un programa que cree un diccionario vacío y lo vaya llenado con información sobre una persona (por ejemplo nombre, edad, sexo, teléfono, correo electrónico, etc.) que se le pida al usuario. Cada vez que se añada un nuevo dato debe imprimirse el contenido del diccionario."
   ]
  },
  {
   "cell_type": "code",
   "execution_count": 1,
   "metadata": {},
   "outputs": [
    {
     "name": "stdout",
     "output_type": "stream",
     "text": [
      "{'': ''}\n"
     ]
    }
   ],
   "source": [
    "datos_de_la_persona = {}\n",
    "seguir_preguntando_datos = True\n",
    "\n",
    "while seguir_preguntando_datos:\n",
    "    clave = input('¿Qué dato quieres introducir? ')\n",
    "    valor = input(clave + ': ')\n",
    "    datos_de_la_persona[clave] = valor\n",
    "    print(datos_de_la_persona)\n",
    "    seguir_preguntando_datos = input('¿Quieres añadir más información (S/N)? ') == \"S\""
   ]
  },
  {
   "cell_type": "code",
   "execution_count": 1,
   "metadata": {},
   "outputs": [
    {
     "name": "stdout",
     "output_type": "stream",
     "text": [
      "{'nombre': 'caludia'}\n",
      "{'nombre': 'caludia', 'apellido ': 'melgarejo'}\n",
      "{'nombre': 'caludia', 'apellido ': 'melgarejo', 'sexo': 'femenino'}\n"
     ]
    }
   ],
   "source": [
    "datos = {}\n",
    "ingresar_datos = input(\"desea ingresar datos? S/N\")\n",
    "\n",
    "while ingresar_datos != \"N\":\n",
    "    clave = input('¿Qué dato quieres introducir? ')\n",
    "    valor = input(' Ingrese el valor')\n",
    "    datos[clave] = valor\n",
    "    print(datos)\n",
    "    ingresar_datos = input(\"desea ingresar datos? S/N\")"
   ]
  },
  {
   "cell_type": "markdown",
   "metadata": {},
   "source": [
    "## Challenge 2 🤺\n",
    "\n",
    "Challenge 2 🤺\n",
    "Crear una tarjeta personal. El usuario (mediante input) puede elegir:\n",
    "\n",
    "1. Crear datos nuevos\n",
    "2. Modificar datos\n",
    "3. Eliminar datos"
   ]
  },
  {
   "cell_type": "code",
   "execution_count": null,
   "metadata": {},
   "outputs": [],
   "source": [
    "tarjeta_personal = {}\n",
    "\n",
    "while True:\n",
    "    menu = int(input(\"Seleccione una opción: \"))\n",
    "    if menu == 1:\n",
    "        clave = input('¿Qué dato quieres introducir? ')\n",
    "        valor = input(clave + ': ')\n",
    "        tarjeta_personal[clave] = valor\n",
    "        print(tarjeta_personal)\n",
    "    elif menu == 2:\n",
    "        clave = input('¿Qué dato quieres cambiar? ')\n",
    "        valor = input(clave + ': ')\n",
    "        tarjeta_personal[clave] = valor\n",
    "        print(tarjeta_personal)\n",
    "    elif menu == 3:\n",
    "        clave = input('¿Qué dato quieres eliminar? ')\n",
    "        del tarjeta_personal[clave]\n",
    "        print(tarjeta_personal)"
   ]
  },
  {
   "cell_type": "markdown",
   "metadata": {},
   "source": [
    "## Challenge 3 🤺\n",
    "Crear una agenda de contactos. El usuario puede elegir:\n",
    "\n",
    "1. Mostrar los contactos\n",
    "2. Crear contacto\n",
    "3. Modificar datos del contacto"
   ]
  },
  {
   "cell_type": "code",
   "execution_count": 4,
   "metadata": {},
   "outputs": [
    {
     "name": "stdout",
     "output_type": "stream",
     "text": [
      "{'Nombre': 'Clau', 'Apellido': 'Melgarejo', 'Telefono': '4832648326', 'Direccion': 'calle mengano 1'}\n"
     ]
    },
    {
     "data": {
      "text/plain": [
       "dict_items([('Nombre', 'Clau'), ('Apellido', 'Melgarejo'), ('Telefono', '4832648326'), ('Direccion', 'calle mengano 1')])"
      ]
     },
     "execution_count": 4,
     "metadata": {},
     "output_type": "execute_result"
    }
   ],
   "source": [
    "contactos = {}\n",
    "def crear_contactos(nombre, apellido, telefono, direccion):\n",
    "    # Cargar datos\n",
    "    contactos[\"Nombre\"] = nombre\n",
    "    contactos[\"Apellido\"] = apellido\n",
    "    contactos[\"Telefono\"] = telefono\n",
    "    contactos[\"Direccion\"] = direccion\n",
    "\n",
    "crear_contactos(\"Clau\", \"Melgarejo\", \"4832648326\", \"calle mengano 1\")\n",
    "print(contactos)\n",
    "\n",
    "print(\"1. Mostrar contactos, 2. Crear contactos, 3. Modificar datos del contacto\")\n",
    "usuario = int(input(\"Ingrese una opcion: \"))\n",
    "\n",
    "while True:\n",
    "    if usuario == 1:\n",
    "        contactos.items()\n",
    "    elif usuario == 2:\n",
    "        clave_nueva = input(\"Que desea agregar?\")\n",
    "        valor_nuevo = input(\"Ingrese el valor\")\n",
    "        contactos[clave_nueva] = valor_nuevo\n",
    "        print(contactos)\n",
    "    elif usuario == 3:\n",
    "        clave_modificada = input(\"Que desea agregar?\")\n",
    "        valor_modificado = input(\"Ingrese el valor\")\n",
    "        contactos[clave_modificada] = valor_modificado\n",
    "        print(contactos)\n",
    "    else:\n",
    "        break "
   ]
  },
  {
   "cell_type": "code",
   "execution_count": 1,
   "metadata": {},
   "outputs": [
    {
     "ename": "ValueError",
     "evalue": "invalid literal for int() with base 10: ''",
     "output_type": "error",
     "traceback": [
      "\u001b[1;31m---------------------------------------------------------------------------\u001b[0m",
      "\u001b[1;31mValueError\u001b[0m                                Traceback (most recent call last)",
      "\u001b[1;32mc:\\Users\\PC\\Desktop\\PenguinMaterials\\curriculo_fer\\script-bootcamp-10-main\\dia-5\\diccionarios.ipynb Cell 8\u001b[0m in \u001b[0;36m<cell line: 27>\u001b[1;34m()\u001b[0m\n\u001b[0;32m     <a href='vscode-notebook-cell:/c%3A/Users/PC/Desktop/PenguinMaterials/curriculo_fer/script-bootcamp-10-main/dia-5/diccionarios.ipynb#ch0000007?line=51'>52</a>\u001b[0m     \u001b[39m# Cargar datos\u001b[39;00m\n\u001b[0;32m     <a href='vscode-notebook-cell:/c%3A/Users/PC/Desktop/PenguinMaterials/curriculo_fer/script-bootcamp-10-main/dia-5/diccionarios.ipynb#ch0000007?line=52'>53</a>\u001b[0m     agenda[nro_que_quiere_editar][dato_a_editar] \u001b[39m=\u001b[39m nuevo_dato\n\u001b[1;32m---> <a href='vscode-notebook-cell:/c%3A/Users/PC/Desktop/PenguinMaterials/curriculo_fer/script-bootcamp-10-main/dia-5/diccionarios.ipynb#ch0000007?line=53'>54</a>\u001b[0m opcion \u001b[39m=\u001b[39m \u001b[39mint\u001b[39;49m(\u001b[39minput\u001b[39;49m(\u001b[39m\"\u001b[39;49m\u001b[39mSeleccione una opcion: \u001b[39;49m\u001b[39m\"\u001b[39;49m))\n",
      "\u001b[1;31mValueError\u001b[0m: invalid literal for int() with base 10: ''"
     ]
    }
   ],
   "source": [
    "agenda = []\n",
    "\n",
    "\n",
    "def crear_contacto(nombre, apellido, telefono, direccion):\n",
    "    # Crear diccionario\n",
    "    contacto = {}\n",
    "    # Cargar datos\n",
    "    contacto[\"Nombre\"] = nombre\n",
    "    contacto[\"Apellido\"] = apellido\n",
    "    contacto[\"Telefono\"] = telefono\n",
    "    contacto[\"Direccion\"] = direccion\n",
    "    # Cargar a agenda\n",
    "    agenda.append(contacto)\n",
    "\n",
    "\n",
    "def mostrar_contacto(agenda):\n",
    "    for contacto in agenda:\n",
    "        print(\"Nombre:\", contacto[\"Nombre\"])\n",
    "        print(\"Apellido:\", contacto[\"Apellido\"])\n",
    "        print(\"Telefono:\", contacto[\"Telefono\"])\n",
    "        print(\"Direccion:\", contacto[\"Direccion\"])\n",
    "\n",
    "\n",
    "# Preguntar por opcion\n",
    "opcion = int(input(\"Seleccione una opcion: \"))\n",
    "\n",
    "while True:\n",
    "    if opcion == 1:\n",
    "        mostrar_contacto(agenda)\n",
    "\n",
    "    elif opcion == 2:\n",
    "        # Carga de datos\n",
    "        nombre_del_contacto = input(\"Ingrese nombre\")\n",
    "        apellido_del_contacto = input(\"Ingrese apellido\")\n",
    "        telefono_del_contacto = input(\"Ingrese telefono\")\n",
    "        direccion_del_contacto = input(\"Ingrese direccion\")\n",
    "        # Llamar a la funcion\n",
    "        crear_contacto(\n",
    "            nombre_del_contacto,\n",
    "            apellido_del_contacto,\n",
    "            telefono_del_contacto,\n",
    "            direccion_del_contacto,\n",
    "        )\n",
    "        print(agenda)\n",
    "    elif opcion == 3:\n",
    "        for index, persona in enumerate(agenda):\n",
    "            print(\"Numero \" + str(index + 1), persona[\"Nombre\"])\n",
    "        nro_que_quiere_editar = int(input(\"Nro que quiere editar\")) - 1\n",
    "        # Pedir datos del usuario\n",
    "        dato_a_editar = input(\"Dato a editar\")\n",
    "        nuevo_dato = input(\"Ingrese el nuevo dato\")\n",
    "        # Cargar datos\n",
    "        agenda[nro_que_quiere_editar][dato_a_editar] = nuevo_dato\n",
    "    opcion = int(input(\"Seleccione una opcion: \"))"
   ]
  }
 ],
 "metadata": {
  "kernelspec": {
   "display_name": "Python 3.8.0 64-bit",
   "language": "python",
   "name": "python3"
  },
  "language_info": {
   "codemirror_mode": {
    "name": "ipython",
    "version": 3
   },
   "file_extension": ".py",
   "mimetype": "text/x-python",
   "name": "python",
   "nbconvert_exporter": "python",
   "pygments_lexer": "ipython3",
   "version": "3.8.0"
  },
  "orig_nbformat": 4,
  "vscode": {
   "interpreter": {
    "hash": "3c040059c337deb504f19c673fdcf9a2751b584394b1f9883eb09580a791bf0c"
   }
  }
 },
 "nbformat": 4,
 "nbformat_minor": 2
}
