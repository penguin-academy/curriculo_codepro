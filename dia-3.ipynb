{
 "cells": [
  {
   "cell_type": "markdown",
   "metadata": {},
   "source": [
    "# Repaso y proyecto (Wordle) - 5h 30m"
   ]
  },
  {
   "cell_type": "markdown",
   "metadata": {},
   "source": [
    "# Funciones - 3h 30m"
   ]
  },
  {
   "cell_type": "markdown",
   "metadata": {},
   "source": [
    "## Funciones - 10m"
   ]
  },
  {
   "cell_type": "code",
   "execution_count": 1,
   "metadata": {},
   "outputs": [
    {
     "name": "stdout",
     "output_type": "stream",
     "text": [
      "Hola mundo\n"
     ]
    }
   ],
   "source": [
    "def imprimir_saludo():\n",
    "    print(\"Hola mundo\")\n",
    "\n",
    "imprimir_saludo()"
   ]
  },
  {
   "cell_type": "markdown",
   "metadata": {},
   "source": [
    "## Challenge 1 🤺 - 15m\n",
    "\n",
    "Crear una función que imprima la variable palabra."
   ]
  },
  {
   "cell_type": "markdown",
   "metadata": {},
   "source": [
    "## Socialización - 10m"
   ]
  },
  {
   "cell_type": "markdown",
   "metadata": {},
   "source": [
    "## Funciones: parámetros y argumentos - 15m"
   ]
  },
  {
   "cell_type": "code",
   "execution_count": 3,
   "metadata": {},
   "outputs": [
    {
     "name": "stdout",
     "output_type": "stream",
     "text": [
      "1186\n"
     ]
    }
   ],
   "source": [
    "def sumar_numeros(numero1, numero2):\n",
    "    sumar = numero1 + numero2\n",
    "    print(sumar)\n",
    "\n",
    "sumar_numeros(200,986)"
   ]
  },
  {
   "cell_type": "markdown",
   "metadata": {},
   "source": [
    "## Challenge 2 🤺 - 20 min\n",
    "Crear una función que reciba dos letras (parámetros) y que verifique si son iguales:\n",
    "\n",
    "1. Si son iguales, imprimir \"Las letras son iguales\".\n",
    "\n",
    "2. De lo contrario, imprimir \"Las letras son diferentes\"."
   ]
  },
  {
   "cell_type": "markdown",
   "metadata": {},
   "source": [
    "## Socialización - 10m"
   ]
  },
  {
   "cell_type": "markdown",
   "metadata": {},
   "source": [
    "## Funciones: `return` - 30m"
   ]
  },
  {
   "cell_type": "code",
   "execution_count": 2,
   "metadata": {},
   "outputs": [
    {
     "name": "stdout",
     "output_type": "stream",
     "text": [
      "Las palabras son diferentes\n"
     ]
    }
   ],
   "source": [
    "def verificar_si_las_palabras_coinciden(palabra_a_encontrar, palabra_ingresada):\n",
    "    palabras_son_iguales = palabra_a_encontrar == palabra_ingresada\n",
    "    if palabras_son_iguales:\n",
    "        return 'Las palabras son iguales'\n",
    "        # return 'Sí'\n",
    "        # return True\n",
    "    else:\n",
    "        return 'Las palabras son diferentes'\n",
    "        # return 'No'\n",
    "        # return False\n",
    "\n",
    "    # return palabras_son_iguales\n",
    "\n",
    "# Revisamos si las palabras coinciden y guardamos el resultado en una variable\n",
    "palabras_coinciden = verificar_si_las_palabras_coinciden(\"perro\", \"gato\")\n",
    "\n",
    "print(palabras_coinciden)\n",
    "\n",
    "# Ejemplo de len() para el return"
   ]
  },
  {
   "cell_type": "code",
   "execution_count": null,
   "metadata": {},
   "outputs": [],
   "source": [
    "def suma():\n",
    "    sumar = 1 + 1\n",
    "    return sumar\n"
   ]
  },
  {
   "cell_type": "markdown",
   "metadata": {},
   "source": [
    "## Challenge 3 🤺 - 20m\n",
    "\n",
    "Crear una función que reciba dos parámetros (una palabra y un número), y que retorne `True` si el número es igual a la cantidad de letras de la palabra. En caso contrario, que retorne `False`.\n",
    "\n",
    "Pista: `cantidad de letras de una palabra en python`"
   ]
  },
  {
   "cell_type": "markdown",
   "metadata": {},
   "source": [
    "## Socialización - 10m"
   ]
  },
  {
   "cell_type": "markdown",
   "metadata": {},
   "source": [
    "## Challenge 4 🤺 - 25 min\n",
    "Crear función que revise si una palabra contiene una letra. En caso de que la contenga, retornar la letra entre corchetes `[]`. De lo contrario, retornar solo la letra."
   ]
  },
  {
   "cell_type": "code",
   "execution_count": 3,
   "metadata": {},
   "outputs": [
    {
     "data": {
      "text/plain": [
       "'o'"
      ]
     },
     "execution_count": 3,
     "metadata": {},
     "output_type": "execute_result"
    }
   ],
   "source": [
    "def retornar_letra(letra, palabra):\n",
    "    if letra in palabra:\n",
    "        letra_en_palabra = f\"[ {letra} ]\"\n",
    "        return letra_en_palabra\n",
    "    else:\n",
    "        return letra\n",
    "retornar_letra(\"o\", \"casa\")"
   ]
  },
  {
   "cell_type": "markdown",
   "metadata": {},
   "source": [
    "## Socialización - 10m"
   ]
  },
  {
   "cell_type": "markdown",
   "metadata": {},
   "source": [
    "## Funciones built-in `input()` - 10m"
   ]
  },
  {
   "cell_type": "code",
   "execution_count": null,
   "metadata": {},
   "outputs": [],
   "source": [
    "palabra_a_encontrar = input(\"Ingrese una palabra: \")\n",
    "print(palabra_a_encontrar)\n",
    "\n",
    "palabra_ingresada = input(\"Ingrese otra palabra\")\n",
    "print(palabra_ingresada)\n",
    "\n",
    "lista_de_letras_de_la_palabra_a_encontrar = list(palabra_a_encontrar)\n",
    "print(lista_de_letras_de_la_palabra_a_encontrar)\n",
    "\n",
    "lista_de_letras_de_la_palabra_ingresada = list(palabra_ingresada)\n",
    "print(lista_de_letras_de_la_palabra_ingresada)"
   ]
  },
  {
   "cell_type": "markdown",
   "metadata": {},
   "source": [
    "## Funciones built-in: `list()` - 10m"
   ]
  },
  {
   "cell_type": "code",
   "execution_count": null,
   "metadata": {},
   "outputs": [],
   "source": [
    "# Convertimos la palabra a encontrar en una lista\n",
    "lista_de_letras_de_la_palabra_a_encontrar = list(palabra_a_encontrar)\n",
    "print(lista_de_letras_de_la_palabra_a_encontrar)\n",
    "\n",
    "lista_de_letras_de_la_palabra_ingresada = list(palabra_ingresada)\n",
    "print(lista_de_letras_de_la_palabra_ingresada)"
   ]
  },
  {
   "cell_type": "markdown",
   "metadata": {},
   "source": [
    "## Challenge 5 🤺 - 25m\n",
    "\n",
    "Pedir al usuario que ingrese 1 palabra, luego convertir esa palabra a una lista con sus caracteres con `list()`. Agregar esa lista de caracteres a una lista llamada `palabras_ingresadas`. Repetir el proceso 3 veces. Cada vez que se agregue una lista de caracteres, imprimir la lista `palabras_ingresadas`.\n",
    "\n",
    "\n",
    "Ejemplo del resultado esperado:\n",
    "\n",
    "```[['c', 'i', 'e', 'l', 'o']]``` # Al ingresar la primera palabra\n",
    "\n",
    "```[['c', 'i', 'e', 'l', 'o'], ['c', 'a', 'l', 'o', 'r']]``` # Al ingresar la segunda palabra\n",
    "\n",
    "```[['c', 'i', 'e', 'l', 'o'], ['c', 'a', 'l', 'o', 'r'], ['n', 'u', 'b', 'e', 's']]``` # Al ingresar la tercera palabra"
   ]
  },
  {
   "cell_type": "code",
   "execution_count": 1,
   "metadata": {},
   "outputs": [
    {
     "name": "stdout",
     "output_type": "stream",
     "text": [
      "[['p', 'e', 'n', 'e']]\n",
      "[['p', 'e', 'n', 'e'], ['p', 'e', 'n', 'e']]\n",
      "[['p', 'e', 'n', 'e'], ['p', 'e', 'n', 'e'], ['p', 'e', 'n', 'e']]\n"
     ]
    }
   ],
   "source": [
    "palabras_ingresadas = []\n",
    "\n",
    "palabra1 = input('Ingresa una palabra')\n",
    "palabra1 = list(palabra1)\n",
    "palabras_ingresadas.append(palabra1)\n",
    "print(palabras_ingresadas)\n",
    "\n",
    "palabra2 = input('Ingresa una palabra')\n",
    "palabra2 = list(palabra2)\n",
    "palabras_ingresadas.append(palabra2)\n",
    "print(palabras_ingresadas)\n",
    "\n",
    "palabra3 = input('Ingresa una palabra')\n",
    "palabra3 = list(palabra3)\n",
    "palabras_ingresadas.append(palabra3)\n",
    "print(palabras_ingresadas)"
   ]
  },
  {
   "cell_type": "markdown",
   "metadata": {},
   "source": [
    "## Socialización - 10m"
   ]
  },
  {
   "cell_type": "markdown",
   "metadata": {},
   "source": [
    "# Bucles (for) - 1h 10m"
   ]
  },
  {
   "cell_type": "markdown",
   "metadata": {},
   "source": [
    "## Función verificadora - 30m"
   ]
  },
  {
   "cell_type": "markdown",
   "metadata": {},
   "source": [
    "Acercandonos un poco más a nuestro juego, vamos a ver cual es el proceso cada vez que se ingresa una palabra\n",
    "\n",
    "- Crear una lista vacía `letras_verificadas` para las letras de la palabra luego de ser verificada\n",
    "- Definir la cantidad de letras de la palabra a encontrar\n",
    "- Si las letras existen en la palabra a encontrar y sus posiciones coinciden: encerrar en corchetes `[]` y agregar al resultado\n",
    "- Si las letras existen en la palabra a encontrar pero sus posiciones no coinciden: encerrar en parentesis `()` y agregar al resultado\n",
    "- Si no se cumple ninguna de las anteriores, agregar la letra a la lista vacía sin modificaciones\n",
    "- Retornar el resultado"
   ]
  },
  {
   "cell_type": "code",
   "execution_count": 4,
   "metadata": {},
   "outputs": [],
   "source": [
    "def obtener_fila_verificada(palabra_a_encontrar, palabra_ingresada):\n",
    "    cantidad_de_letras_de_palabra_a_encontrar = 5\n",
    "\n",
    "    # Creamos una lista vacía para almacenar el resultado de una linea\n",
    "    letras_verificadas = []\n",
    "    # Iteramos por cada letra de la palabra ingresada\n",
    "    for posicion in range(cantidad_de_letras_de_palabra_a_encontrar):\n",
    "\n",
    "        las_letras_son_iguales = palabra_a_encontrar[posicion] == palabra_ingresada[posicion]\n",
    "\n",
    "        la_letra_existe_en_la_palabra = palabra_ingresada[posicion] in palabra_a_encontrar\n",
    "\n",
    "        if las_letras_son_iguales:\n",
    "            # Guardar las letras que estan en la palabra a encontrar y coinciden en la posicion dentro de corchetes\n",
    "            letras_verificadas.append(\"[\"+palabra_ingresada[posicion]+\"]\")\n",
    "        elif la_letra_existe_en_la_palabra:\n",
    "            # Guardar las letras que no coinciden pero que estan en la palabra a encontrar dentro de parentesis\n",
    "            letras_verificadas.append(\"(\"+palabra_ingresada[posicion]+\")\")\n",
    "        else:\n",
    "            letras_verificadas.append(palabra_ingresada[posicion])\n",
    "    return letras_verificadas"
   ]
  },
  {
   "cell_type": "markdown",
   "metadata": {},
   "source": [
    "## Probamos nuestra función (y rezamos para que funcione) - 10m"
   ]
  },
  {
   "cell_type": "code",
   "execution_count": 5,
   "metadata": {},
   "outputs": [
    {
     "name": "stdout",
     "output_type": "stream",
     "text": [
      "palas\n",
      "palos\n",
      "['[p]', '[a]', '[l]', 'o', '[s]']\n"
     ]
    }
   ],
   "source": [
    "# Usamos nuestras variables de los bloques de más arriba\n",
    "\n",
    "palabra_a_encontrar = input(\"Ingrese una palabra: \")\n",
    "print(palabra_a_encontrar)\n",
    "\n",
    "palabra_ingresada = input(\"Ingrese otra palabra\")\n",
    "print(palabra_ingresada)\n",
    "\n",
    "linea_verificada = obtener_fila_verificada(palabra_a_encontrar,palabra_ingresada)\n",
    "\n",
    "print(linea_verificada)\n",
    "# Convertimos la palabra a encontrar en una lista\n",
    "# lista_de_letras_de_la_palabra_a_encontrar = list(palabra_a_encontrar)\n",
    "# print(lista_de_letras_de_la_palabra_a_encontrar)\n",
    "\n",
    "# lista_de_letras_de_la_palabra_ingresada = list(palabra_ingresada)\n",
    "# print(lista_de_letras_de_la_palabra_ingresada)\n"
   ]
  },
  {
   "cell_type": "markdown",
   "metadata": {},
   "source": [
    "## Challenge 6 🤺 - 25m\n",
    "\n",
    "Dada la lista de ejemplo: \n",
    "\n",
    "lista = [['h', 'o', 'l', 'i', 's'], ['h', 'e', 'l', 'l', 'o'], ['h', 'a', 'l', 'l', 'o']]\n",
    "\n",
    "Crear una función que imprima una grilla (lista de listas), una línea por cada lista dentro de la lista principal.\n",
    "\n",
    "Ejemplo del resultado esperado:\n",
    "\n",
    "```\n",
    "['h', 'o', 'l', 'i', 's']\n",
    "['h', 'e', 'l', 'l', 'o']\n",
    "['h', 'a', 'l', 'l', 'o']\n",
    "```"
   ]
  },
  {
   "cell_type": "markdown",
   "metadata": {},
   "source": [
    "## Socialización - 10m"
   ]
  },
  {
   "cell_type": "markdown",
   "metadata": {},
   "source": [
    "# Bucles (while) - 20m"
   ]
  },
  {
   "cell_type": "code",
   "execution_count": null,
   "metadata": {},
   "outputs": [],
   "source": [
    "# while True:\n",
    "#     print('si')\n",
    "\n",
    "# ----------------\n",
    "\n",
    "# while False:\n",
    "#     print('no')\n",
    "\n",
    "# ----------------\n",
    "\n",
    "# while 1 > 0:\n",
    "#     print('si')\n",
    "\n",
    "#----------------\n",
    "\n",
    "intentos = 3\n",
    "\n",
    "while intentos > 0:\n",
    "    print(f\"Te quedan {intentos} intentos.\")\n",
    "    palabra = input(\"Ingrese una palabra: \")\n",
    "    intentos = intentos - 1\n",
    "    print(palabra)\n",
    "print(\"Ya no quedan intentos.\")"
   ]
  },
  {
   "cell_type": "markdown",
   "metadata": {},
   "source": [
    "# ¿Y si unimos todo? 💥💥💥💥💥💥💥 - Lo que quede la tarde"
   ]
  },
  {
   "cell_type": "code",
   "execution_count": null,
   "metadata": {},
   "outputs": [],
   "source": [
    "# Ver el archivo wordle.py"
   ]
  }
 ],
 "metadata": {
  "kernelspec": {
   "display_name": "Python 3.10.8 64-bit",
   "language": "python",
   "name": "python3"
  },
  "language_info": {
   "codemirror_mode": {
    "name": "ipython",
    "version": 3
   },
   "file_extension": ".py",
   "mimetype": "text/x-python",
   "name": "python",
   "nbconvert_exporter": "python",
   "pygments_lexer": "ipython3",
   "version": "3.10.8"
  },
  "orig_nbformat": 4,
  "vscode": {
   "interpreter": {
    "hash": "e593ac106456af50ce7af38f9671c411b49d6cd90f9b885e167f0f594e09038c"
   }
  }
 },
 "nbformat": 4,
 "nbformat_minor": 2
}
